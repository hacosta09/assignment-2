{
  "nbformat": 4,
  "nbformat_minor": 0,
  "metadata": {
    "colab": {
      "provenance": [],
      "authorship_tag": "ABX9TyOvesf45jDXUjXXI7hi9bdN",
      "include_colab_link": true
    },
    "kernelspec": {
      "name": "python3",
      "display_name": "Python 3"
    },
    "language_info": {
      "name": "python"
    }
  },
  "cells": [
    {
      "cell_type": "markdown",
      "metadata": {
        "id": "view-in-github",
        "colab_type": "text"
      },
      "source": [
        "<a href=\"https://colab.research.google.com/github/hacosta09/assignment-2/blob/main/Untitled1.ipynb\" target=\"_parent\"><img src=\"https://colab.research.google.com/assets/colab-badge.svg\" alt=\"Open In Colab\"/></a>"
      ]
    },
    {
      "cell_type": "code",
      "execution_count": 2,
      "metadata": {
        "colab": {
          "base_uri": "https://localhost:8080/",
          "height": 105
        },
        "id": "bVkLw3yoBbKj",
        "outputId": "b90a15a9-c514-499b-ed62-54cc5cb3f754"
      },
      "outputs": [
        {
          "output_type": "error",
          "ename": "SyntaxError",
          "evalue": "invalid syntax (<ipython-input-2-fcdddcb8afc2>, line 2)",
          "traceback": [
            "\u001b[0;36m  File \u001b[0;32m\"<ipython-input-2-fcdddcb8afc2>\"\u001b[0;36m, line \u001b[0;32m2\u001b[0m\n\u001b[0;31m    using namespace std;\u001b[0m\n\u001b[0m          ^\u001b[0m\n\u001b[0;31mSyntaxError\u001b[0m\u001b[0;31m:\u001b[0m invalid syntax\n"
          ]
        }
      ],
      "source": [
        "#include <iostream>\n",
        "using namespace std;\n",
        "\n",
        "// Node structure definition\n",
        "struct Node {\n",
        "    int data;\n",
        "    Node* prev;\n",
        "    Node* next;\n",
        "};\n",
        "\n",
        "\n",
        "void DoublyInsert(int data, Node** head) {\n",
        "    // Create a new node\n",
        "    Node* newNode = new Node();\n",
        "    newNode->data = data;\n",
        "    newNode->prev = nullptr;\n",
        "    newNode->next = *head;\n",
        "\n",
        "\n",
        "    if (*head != nullptr) {\n",
        "        (*head)->prev = newNode;\n",
        "    }\n",
        "\n",
        "    // Set the head to the new node\n",
        "    *head = newNode;\n",
        "}\n",
        "\n",
        "// Function to print the list from the beginning\n",
        "void printList(Node* node) {\n",
        "    while (node != nullptr) {\n",
        "        cout << node->data << \" \";\n",
        "        node = node->next;\n",
        "    }\n",
        "    cout << endl;\n",
        "}\n",
        "\n",
        "int main() {\n",
        "    Node* head = nullptr; // Initialize an empty list\n",
        "\n",
        "    // Insert elements at the beginning\n",
        "    DoublyInsert(10, &head); // Insert 10\n",
        "    DoublyInsert(20, &head); // Insert 20 at the beginning\n",
        "    DoublyInsert(30, &head); // Insert 30 at the beginning\n",
        "\n",
        "    // Print the list\n",
        "    printList(head); // Output: 30 20 10\n",
        "\n",
        "    return 0;\n",
        "}\n"
      ]
    }
  ]
}