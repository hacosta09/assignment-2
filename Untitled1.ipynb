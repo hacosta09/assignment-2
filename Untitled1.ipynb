{
  "nbformat": 4,
  "nbformat_minor": 0,
  "metadata": {
    "colab": {
      "provenance": [],
      "authorship_tag": "ABX9TyNhVZVLZBeKsBfuITqT8emu",
      "include_colab_link": true
    },
    "kernelspec": {
      "name": "python3",
      "display_name": "Python 3"
    },
    "language_info": {
      "name": "python"
    }
  },
  "cells": [
    {
      "cell_type": "markdown",
      "metadata": {
        "id": "view-in-github",
        "colab_type": "text"
      },
      "source": [
        "<a href=\"https://colab.research.google.com/github/hacosta09/assignment-2/blob/main/Untitled1.ipynb\" target=\"_parent\"><img src=\"https://colab.research.google.com/assets/colab-badge.svg\" alt=\"Open In Colab\"/></a>"
      ]
    },
    {
      "cell_type": "code",
      "execution_count": null,
      "metadata": {
        "id": "eB7hleSlC4kR"
      },
      "outputs": [],
      "source": [
        "#include <iostream>\n",
        "using namespace std;\n",
        "\n",
        "// Node structure\n",
        "struct Node {\n",
        "    int data;\n",
        "    Node* next;\n",
        "    Node* prev;\n",
        "};\n",
        "\n",
        "// Function to delete the first node (index 0) from a doubly linked list\n",
        "void DoublyDelete(Node** head) {\n",
        "    if (*head == nullptr) {\n",
        "        return;  // If the list is empty, do nothing\n",
        "    }\n",
        "\n",
        "    Node* temp = *head;  // Store the current head in a temporary variable\n",
        "    *head = temp->next;  // Move the head pointer to the next node\n",
        "\n",
        "    // If the list is not empty, set the new head's previous pointer to nullptr\n",
        "    if (*head != nullptr) {\n",
        "        (*head)->prev = nullptr;\n",
        "    }\n",
        "\n",
        "    delete temp;  // Free memory of the old head\n",
        "}\n",
        "\n",
        "// Function to print the list\n",
        "void printList(Node* node) {\n",
        "    while (node != nullptr) {\n",
        "        cout << node->data << \" \";\n",
        "        node = node->next;\n",
        "    }\n",
        "    cout << endl;\n",
        "}\n",
        "\n",
        "int main() {\n",
        "\n",
        "    Node* head = new Node{10, nullptr, nullptr};\n",
        "    Node* second = new Node{20, nullptr, nullptr};\n",
        "\n",
        "    // Link the nodes\n",
        "    head->next = second;\n",
        "    second->prev = head;\n",
        "\n",
        "    cout << \"Original List: \";\n",
        "    printList(head);  // Output: 10 20\n",
        "\n",
        "    // Delete the first node\n",
        "    DoublyDelete(&head);\n",
        "\n",
        "    cout << \"After Deletion: \";\n",
        "    printList(head);  // Output: 20\n",
        "\n",
        "    return 0;\n",
        "}\n"
      ]
    }
  ]
}